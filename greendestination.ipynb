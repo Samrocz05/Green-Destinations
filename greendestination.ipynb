import pandas as pd
import matplotlib.pyplot as plt
import seaborn as sns
data = pd.read_csv("green_destinations_employee_data.csv")
data.head()
attrition_rate = (data['Attrition'].value_counts(normalize=True) * 100)['Yes']
print(f"Attrition Rate: {attrition_rate:.2f}%")
attrition_factors = ['Age', 'YearsAtCompany', 'MonthlyIncome']
for factor in attrition_factors:
    print(f"\nAverage {factor} for employees who left vs. those who stayed:")
    print(data.groupby('Attrition')[factor].mean())
plt.figure(figsize=(15, 5))
plt.subplot(1, 3, 1)
sns.histplot(data=data, x='Age', hue='Attrition', bins=20, kde=True, palette='Set2')
plt.title('Age Distribution')
plt.subplot(1, 3, 2)
sns.histplot(data=data, x='YearsAtCompany', hue='Attrition', bins=20, kde=True, palette='Set2')
plt.title('Years at Company Distribution')
plt.subplot(1, 3, 3)
sns.histplot(data=data, x='MonthlyIncome', hue='Attrition', bins=20, kde=True, palette='Set2')
plt.title('Monthly Income Distribution')
plt.tight_layout()
plt.show()
